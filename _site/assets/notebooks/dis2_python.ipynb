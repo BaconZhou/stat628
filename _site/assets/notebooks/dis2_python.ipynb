{
 "cells": [
  {
   "cell_type": "code",
   "execution_count": 1,
   "metadata": {},
   "outputs": [
    {
     "name": "stdout",
     "output_type": "stream",
     "text": [
      "Collecting numpy\n",
      "  Using cached https://files.pythonhosted.org/packages/83/0d/1dd2f96eff7f5df22166066f7dbd213428d46f78f8ed9dea8345ca1a1f51/numpy-1.16.0-cp37-cp37m-macosx_10_6_intel.macosx_10_9_intel.macosx_10_9_x86_64.macosx_10_10_intel.macosx_10_10_x86_64.whl\n",
      "Collecting matplotlib\n",
      "\u001b[?25l  Downloading https://files.pythonhosted.org/packages/50/08/2cdc493a19805d40f77db9674ae8100b37feafeef12686cb30dab19c8192/matplotlib-3.0.2-cp37-cp37m-macosx_10_6_intel.macosx_10_9_intel.macosx_10_9_x86_64.macosx_10_10_intel.macosx_10_10_x86_64.whl (14.1MB)\n",
      "\u001b[K    100% |████████████████████████████████| 14.1MB 1.6MB/s \n",
      "\u001b[?25hCollecting pandas\n",
      "\u001b[?25l  Downloading https://files.pythonhosted.org/packages/19/7d/90cb0a6e4b62efb2078e4e377f0fb162237f341df02ff4310b178d576bd8/pandas-0.24.0-cp37-cp37m-macosx_10_6_intel.macosx_10_9_intel.macosx_10_9_x86_64.macosx_10_10_intel.macosx_10_10_x86_64.whl (15.9MB)\n",
      "\u001b[K    100% |████████████████████████████████| 15.9MB 2.1MB/s \n",
      "\u001b[?25hCollecting cycler>=0.10 (from matplotlib)\n",
      "  Downloading https://files.pythonhosted.org/packages/f7/d2/e07d3ebb2bd7af696440ce7e754c59dd546ffe1bbe732c8ab68b9c834e61/cycler-0.10.0-py2.py3-none-any.whl\n",
      "Requirement already satisfied: python-dateutil>=2.1 in /usr/local/anaconda3/envs/stat628/lib/python3.7/site-packages (from matplotlib) (2.7.5)\n",
      "Collecting pyparsing!=2.0.4,!=2.1.2,!=2.1.6,>=2.0.1 (from matplotlib)\n",
      "\u001b[?25l  Downloading https://files.pythonhosted.org/packages/de/0a/001be530836743d8be6c2d85069f46fecf84ac6c18c7f5fb8125ee11d854/pyparsing-2.3.1-py2.py3-none-any.whl (61kB)\n",
      "\u001b[K    100% |████████████████████████████████| 71kB 8.2MB/s \n",
      "\u001b[?25hCollecting kiwisolver>=1.0.1 (from matplotlib)\n",
      "\u001b[?25l  Downloading https://files.pythonhosted.org/packages/68/f2/21ec13269a420c063a3d7d8c87dac030da7b00fc6b27fa88cfb1c72a645b/kiwisolver-1.0.1-cp37-cp37m-macosx_10_6_intel.macosx_10_9_intel.macosx_10_9_x86_64.macosx_10_10_intel.macosx_10_10_x86_64.whl (107kB)\n",
      "\u001b[K    100% |████████████████████████████████| 112kB 11.7MB/s \n",
      "\u001b[?25hCollecting pytz>=2011k (from pandas)\n",
      "\u001b[?25l  Downloading https://files.pythonhosted.org/packages/61/28/1d3920e4d1d50b19bc5d24398a7cd85cc7b9a75a490570d5a30c57622d34/pytz-2018.9-py2.py3-none-any.whl (510kB)\n",
      "\u001b[K    100% |████████████████████████████████| 512kB 10.5MB/s \n",
      "\u001b[?25hRequirement already satisfied: six in /usr/local/anaconda3/envs/stat628/lib/python3.7/site-packages (from cycler>=0.10->matplotlib) (1.12.0)\n",
      "Requirement already satisfied: setuptools in /usr/local/anaconda3/envs/stat628/lib/python3.7/site-packages (from kiwisolver>=1.0.1->matplotlib) (40.6.3)\n",
      "Installing collected packages: numpy, cycler, pyparsing, kiwisolver, matplotlib, pytz, pandas\n",
      "Successfully installed cycler-0.10.0 kiwisolver-1.0.1 matplotlib-3.0.2 numpy-1.16.0 pandas-0.24.0 pyparsing-2.3.1 pytz-2018.9\n"
     ]
    }
   ],
   "source": [
    "!pip install numpy matplotlib pandas"
   ]
  },
  {
   "cell_type": "code",
   "execution_count": 3,
   "metadata": {},
   "outputs": [],
   "source": [
    "# import module\n",
    "\n",
    "import numpy as np\n",
    "import pandas as pd\n",
    "import matplotlib.pyplot as plt"
   ]
  },
  {
   "cell_type": "code",
   "execution_count": 4,
   "metadata": {},
   "outputs": [],
   "source": [
    "%matplotlib inline"
   ]
  },
  {
   "cell_type": "markdown",
   "metadata": {},
   "source": [
    "# Create vector\n",
    "\n",
    "A single tutorial from stanford. [CS231n python tutorial](http://cs231n.github.io/python-numpy-tutorial) [Ipython notebook](https://github.com/kuleshov/cs228-material/blob/master/tutorials/python/cs228-python-tutorial.ipynb)\n",
    "\n",
    "1. [numpy tutoral](https://docs.scipy.org/doc/numpy-1.15.0/user/quickstart.html)\n",
    "2. [matplotlib tutoral](https://matplotlib.org/users/pyplot_tutorial.html)"
   ]
  },
  {
   "cell_type": "code",
   "execution_count": 13,
   "metadata": {},
   "outputs": [],
   "source": [
    "N, P = 300, 3\n",
    "\n",
    "x = np.random.randn(N, P) # X from standard normal distribution\n",
    "beta = np.array([1, 2, 3]) # Create beta\n",
    "sigma = 1\n",
    "y = x @ beta + np.random.randn(N) * sigma"
   ]
  },
  {
   "cell_type": "code",
   "execution_count": 11,
   "metadata": {},
   "outputs": [
    {
     "data": {
      "image/png": "[encoded data removed]",
      "text/plain": [
       "<Figure size 432x288 with 1 Axes>"
      ]
     },
     "metadata": {
      "needs_background": "light"
     },
     "output_type": "display_data"
    }
   ],
   "source": [
    "y1 = x\n",
    "y2 = 2 * x + 1\n",
    "y3 = 3 * x + 2\n",
    "\n",
    "plt.figure()\n",
    "plt.plot(x, y1, 'ro')\n",
    "plt.plot(x, y2, 'bo')\n",
    "plt.show()"
   ]
  },
  {
   "cell_type": "markdown",
   "metadata": {},
   "source": [
    "# Linear regression\n",
    "\n",
    "$$y \\sim N(X\\beta, \\sigma^2) $$\n",
    "$$\\hat{\\beta} = argmin_{\\beta} ||Y - X\\beta||^2$$\n",
    "\n",
    "**Questions**:\n",
    "    \n",
    "1. What are the assumptions for linear regression\n",
    "2. What is the consistent estimator for $\\beta$ and $\\sigma^2$\n",
    "    \n",
    "**Practice**:\n",
    "    \n",
    "1. Generate a dataset $X\\sim N(0, 1)$, with 300 observations, dimensions is 3.   \n",
    "    Use `numpy.random.randn` or call `np.random.randn`. [More distributions](https://docs.scipy.org/doc/numpy-1.15.0/reference/routines.random.html)\n",
    "2. Set $\\beta = (1, 2, 3)$ and set $\\sigma^2 = 1$\n",
    "3. Generate $y \\sim N(X\\beta, \\sigma^2)$\n",
    "4. Create a function `lm`, and give the estimates $\\hat{\\beta}_{lm}$, $var(\\hat{\\beta}_{lm})$ and $\\hat{\\sigma}$"
   ]
  },
  {
   "cell_type": "code",
   "execution_count": null,
   "metadata": {},
   "outputs": [],
   "source": [
    "def lm(x, y):\n",
    "    '''\n",
    "    linear regression function used to solve ols\n",
    "    beta = (x'x)^-1 x'y\n",
    "    '''\n",
    "    return beta, sigma"
   ]
  },
  {
   "cell_type": "code",
   "execution_count": null,
   "metadata": {},
   "outputs": [],
   "source": [
    "beta_hat, sigma_hat = lm(x, y)\n",
    "print(\"Linear regression result.\\n\\\n",
    "Beta: {}\\n\\\n",
    "Sigma: {}\".format(beta_hat, sigma_hat))"
   ]
  },
  {
   "cell_type": "markdown",
   "metadata": {},
   "source": [
    "## [Ridge regression](https://newonlinecourses.science.psu.edu/stat508/lesson/5/5.1)\n",
    "\n",
    "**Questions**:\n",
    "\n",
    "\n",
    "1. If you have too many predictors, what are the problems?\n",
    "2. How do you solve it? List at least 3 methods.\n",
    "3. What are the properties these methods?\n",
    "\n",
    "**Programming**:\n",
    "\n",
    "1. Implement a function ridge, which is used to solve ridge regression problem\n",
    "\n",
    "$$\\hat{\\beta}_{ridge} = argmin_{\\beta} ||Y - X\\beta||^2 + \\lambda ||\\beta||^2$$\n",
    "\n",
    "2. Give the estimates of $\\hat{\\beta}_{ridge}$ and $var(\\hat{\\beta}_{ridge})$\n",
    "3. Consider what is the relationship between $\\beta_{lm}$ and $\\beta_{ridge}$\n",
    "4. What if $X'X$ is an orthogonal matrix?\n",
    "5. What is the equivalent Bayesian formulation?"
   ]
  },
  {
   "cell_type": "code",
   "execution_count": null,
   "metadata": {},
   "outputs": [],
   "source": [
    "def ridge(x, y, tunning):\n",
    "    '''your code here'''\n",
    "    return beta, sigma, beta_se"
   ]
  },
  {
   "cell_type": "code",
   "execution_count": null,
   "metadata": {},
   "outputs": [],
   "source": [
    "beta_hat, sigma_hat, beta_se = ridge(x, y, 500)\n",
    "print(\"Linear ridge regression result.\\n\\n\\\n",
    "Beta: {}\\n\\\n",
    "Beta SE: {}\\n\\\n",
    "Sigma: {}\".format(beta_hat, beta_se, sigma_hat))"
   ]
  }
 ],
 "metadata": {
  "kernelspec": {
   "display_name": "Python 3",
   "language": "python",
   "name": "python3"
  },
  "language_info": {
   "codemirror_mode": {
    "name": "ipython",
    "version": 3
   },
   "file_extension": ".py",
   "mimetype": "text/x-python",
   "name": "python",
   "nbconvert_exporter": "python",
   "pygments_lexer": "ipython3",
   "version": "3.7.2"
  }
 },
 "nbformat": 4,
 "nbformat_minor": 2
}
